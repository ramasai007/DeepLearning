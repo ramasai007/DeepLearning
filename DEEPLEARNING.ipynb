{
 "cells": [
  {
   "cell_type": "markdown",
   "id": "ff64a8b5",
   "metadata": {},
   "source": [
    "## Create a MCP based neuron with the help of (Functions  or Class) \n",
    " #### * Here your activation function should be \"and,or\" and your inputs can be in n-dimensional.\n",
    " #### * In this code it  should work for both \"and\" as well as for \"or\"\n"
   ]
  },
  {
   "cell_type": "code",
   "execution_count": 28,
   "id": "10c63847",
   "metadata": {},
   "outputs": [
    {
     "name": "stdout",
     "output_type": "stream",
     "text": [
      "Enter activation function ('AND' or 'OR'): or\n",
      "Enter input values (comma-separated 0s and 1s): 0.0\n",
      "Error: invalid literal for int() with base 10: '0.0'\n"
     ]
    }
   ],
   "source": [
    "def mcp_neuron(inputs, activation_function):\n",
    "    if activation_function == 'AND':\n",
    "        return int(all(inputs))\n",
    "    elif activation_function == 'OR':\n",
    "        return int(any(inputs))\n",
    "    else:\n",
    "        raise ValueError(\"Invalid activation function. Use 'AND' or 'OR'.\")\n",
    "\n",
    "if __name__ == \"__main__\":\n",
    "    try:\n",
    "# Get user input for activation function\n",
    "        activation_function = input(\"Enter activation function ('AND' or 'OR'): \").upper()\n",
    "\n",
    "        if activation_function not in ['AND', 'OR']:\n",
    "            raise ValueError(\"Invalid activation function. Use 'AND' or 'OR'.\")\n",
    "\n",
    "# Get user input for inputs as a comma-separated string, e.g., \"0,1,1,0\"\n",
    "        inputs_str = input(\"Enter input values (comma-separated 0s and 1s): \")\n",
    "        inputs = [int(val) for val in inputs_str.split(',')]\n",
    "\n",
    "# Calling the mcp_neuron function with user inputs.\n",
    "        result = mcp_neuron(inputs, activation_function)\n",
    "        print(f\"Output: {result}\")\n",
    "\n",
    "    except ValueError as e:\n",
    "        print(f\"Error: {e}\")\n"
   ]
  },
  {
   "cell_type": "code",
   "execution_count": null,
   "id": "7a08596e",
   "metadata": {},
   "outputs": [],
   "source": []
  },
  {
   "cell_type": "code",
   "execution_count": null,
   "id": "14616a36",
   "metadata": {},
   "outputs": [],
   "source": []
  },
  {
   "cell_type": "code",
   "execution_count": null,
   "id": "6f429fec",
   "metadata": {},
   "outputs": [],
   "source": []
  }
 ],
 "metadata": {
  "kernelspec": {
   "display_name": "Python 3 (ipykernel)",
   "language": "python",
   "name": "python3"
  },
  "language_info": {
   "codemirror_mode": {
    "name": "ipython",
    "version": 3
   },
   "file_extension": ".py",
   "mimetype": "text/x-python",
   "name": "python",
   "nbconvert_exporter": "python",
   "pygments_lexer": "ipython3",
   "version": "3.9.13"
  }
 },
 "nbformat": 4,
 "nbformat_minor": 5
}
